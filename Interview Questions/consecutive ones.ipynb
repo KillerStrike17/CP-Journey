{
 "cells": [
  {
   "cell_type": "code",
   "execution_count": null,
   "metadata": {},
   "outputs": [],
   "source": [
    "n =1\n",
    "2\n",
    "\n",
    "n = 2\n",
    "00,01,10,11  - 3\n",
    "\n",
    "000,001,010,100,110,011,101,111 - 5\n",
    "\n",
    "0000,0001,0010,0011,0100,0101,0110,0111,\n",
    "1000,1001,1010,1011,1100,1101,1110,1111 - 8\n",
    "\n",
    "\n",
    "# 00,01,100/1\n",
    "\n",
    "# 32-13 = 19"
   ]
  },
  {
   "cell_type": "code",
   "execution_count": null,
   "metadata": {},
   "outputs": [],
   "source": [
    "0(0/1) = 01/00\n",
    "1(0/1) = 10\n",
    "\n",
    "01(0/1) = 010\n",
    "00(0/1) = 000,001\n",
    "10(0/1) = 100,101\n",
    "\n",
    "2*(0)+1\n"
   ]
  },
  {
   "cell_type": "code",
   "execution_count": 9,
   "metadata": {},
   "outputs": [
    {
     "name": "stdout",
     "output_type": "stream",
     "text": [
      "3 1 2\n",
      "5 2 3\n",
      "8 3 5\n",
      "13 5 8\n",
      "21 8 13\n"
     ]
    }
   ],
   "source": [
    "n=1\n",
    "nzero = 1\n",
    "none =1 \n",
    "\n",
    "\n",
    "total_output = 2*(nzero) + none\n",
    "temp = none\n",
    "none = nzero\n",
    "nzero = nzero+temp\n",
    "print(total_output,none, nzero)\n",
    "total_output = 2*(nzero) + none\n",
    "temp = none\n",
    "none = nzero\n",
    "nzero = nzero+temp\n",
    "print(total_output,none, nzero)\n",
    "total_output = 2*(nzero) + none\n",
    "temp = none\n",
    "none = nzero\n",
    "nzero = nzero+temp\n",
    "print(total_output,none, nzero)\n",
    "total_output = 2*(nzero) + none\n",
    "temp = none\n",
    "none = nzero\n",
    "nzero = nzero+temp\n",
    "print(total_output,none, nzero)\n",
    "total_output = 2*(nzero) + none\n",
    "temp = none\n",
    "none = nzero\n",
    "nzero = nzero+temp\n",
    "print(total_output,none, nzero)"
   ]
  },
  {
   "cell_type": "code",
   "execution_count": 13,
   "metadata": {},
   "outputs": [
    {
     "data": {
      "text/plain": [
       "13"
      ]
     },
     "execution_count": 13,
     "metadata": {},
     "output_type": "execute_result"
    }
   ],
   "source": [
    "def count_0(n:int):\n",
    "    nzero = 1\n",
    "    n_one = 1\n",
    "    for _ in range(2,n+1):\n",
    "        total_output = 2*(nzero) + n_one\n",
    "        temp = n_one\n",
    "        n_one = nzero\n",
    "        nzero = nzero+temp\n",
    "    return total_output\n",
    "        \n",
    "n = 5        \n",
    "count_0(n)\n",
    "    \n",
    "    # if n ==1:\n",
    "    #     n_zero = 1\n",
    "    #     n_one = 1"
   ]
  },
  {
   "cell_type": "code",
   "execution_count": null,
   "metadata": {},
   "outputs": [],
   "source": []
  },
  {
   "cell_type": "code",
   "execution_count": null,
   "metadata": {},
   "outputs": [],
   "source": [
    "0,1,1,2,3,5\n"
   ]
  },
  {
   "cell_type": "code",
   "execution_count": 2,
   "metadata": {},
   "outputs": [
    {
     "name": "stdout",
     "output_type": "stream",
     "text": [
      "13\n"
     ]
    }
   ],
   "source": [
    "def get_string(n:int)->int:\n",
    "    if n == 1:\n",
    "        return 2\n",
    "    elif n ==2:\n",
    "        return 3\n",
    "    else:\n",
    "        return get_string(n-1) + get_string(n-2)\n",
    "\n",
    "n = 5    \n",
    "print(get_string(n))"
   ]
  },
  {
   "cell_type": "code",
   "execution_count": 4,
   "metadata": {},
   "outputs": [
    {
     "data": {
      "text/plain": [
       "0.6666666666666666"
      ]
     },
     "execution_count": 4,
     "metadata": {},
     "output_type": "execute_result"
    }
   ],
   "source": [
    "2/3\n"
   ]
  },
  {
   "cell_type": "code",
   "execution_count": 14,
   "metadata": {},
   "outputs": [],
   "source": [
    "mydict = {\n",
    "    \"1\":\"A\",\n",
    "    \"2\":\"B\",\n",
    "    \"3\":\"C\",\n",
    "    \"4\":\"D\",\n",
    "    \"5\":\"E\",\n",
    "    \"6\":\"F\",\n",
    "    \"7\":\"G\",\n",
    "    \"8\":\"H\",\n",
    "    \"9\":\"I\",\n",
    "    \"10\":\"J\",\n",
    "    \"11\":\"K\",\n",
    "    \"12\":\"L\",\n",
    "    \"13\":\"M\",\n",
    "    \"14\":\"N\",\n",
    "    \"15\":\"O\",\n",
    "}"
   ]
  },
  {
   "cell_type": "code",
   "execution_count": 15,
   "metadata": {},
   "outputs": [
    {
     "ename": "IndexError",
     "evalue": "string index out of range",
     "output_type": "error",
     "traceback": [
      "\u001b[1;31m---------------------------------------------------------------------------\u001b[0m",
      "\u001b[1;31mIndexError\u001b[0m                                Traceback (most recent call last)",
      "\u001b[1;32m~\\AppData\\Local\\Temp\\ipykernel_8736\\4293766166.py\u001b[0m in \u001b[0;36m<module>\u001b[1;34m\u001b[0m\n\u001b[0;32m      7\u001b[0m \u001b[0mcounter\u001b[0m \u001b[1;33m=\u001b[0m \u001b[1;36m0\u001b[0m\u001b[1;33m\u001b[0m\u001b[1;33m\u001b[0m\u001b[0m\n\u001b[0;32m      8\u001b[0m \u001b[1;32mfor\u001b[0m \u001b[0m_\u001b[0m \u001b[1;32min\u001b[0m \u001b[0mrange\u001b[0m\u001b[1;33m(\u001b[0m\u001b[0mlen\u001b[0m\u001b[1;33m(\u001b[0m\u001b[0mmyStr\u001b[0m\u001b[1;33m)\u001b[0m\u001b[1;33m,\u001b[0m\u001b[1;36m0\u001b[0m\u001b[1;33m,\u001b[0m\u001b[1;33m-\u001b[0m\u001b[1;36m1\u001b[0m\u001b[1;33m)\u001b[0m\u001b[1;33m:\u001b[0m\u001b[1;33m\u001b[0m\u001b[1;33m\u001b[0m\u001b[0m\n\u001b[1;32m----> 9\u001b[1;33m     \u001b[1;32mif\u001b[0m \u001b[0mmyStr\u001b[0m\u001b[1;33m[\u001b[0m\u001b[0m_\u001b[0m\u001b[1;33m]\u001b[0m \u001b[1;33m==\u001b[0m\u001b[1;34m\"0\"\u001b[0m\u001b[1;33m:\u001b[0m\u001b[1;33m\u001b[0m\u001b[1;33m\u001b[0m\u001b[0m\n\u001b[0m\u001b[0;32m     10\u001b[0m         \u001b[1;32mif\u001b[0m \u001b[0mmyStr\u001b[0m\u001b[1;33m[\u001b[0m\u001b[0m_\u001b[0m\u001b[1;33m-\u001b[0m\u001b[1;36m1\u001b[0m\u001b[1;33m]\u001b[0m \u001b[1;33m+\u001b[0m \u001b[0mmyStr\u001b[0m\u001b[1;33m[\u001b[0m\u001b[0m_\u001b[0m\u001b[1;33m]\u001b[0m \u001b[1;32min\u001b[0m \u001b[0mdict_keys\u001b[0m\u001b[1;33m:\u001b[0m\u001b[1;33m\u001b[0m\u001b[1;33m\u001b[0m\u001b[0m\n\u001b[0;32m     11\u001b[0m             \u001b[0mcounter\u001b[0m \u001b[1;33m+=\u001b[0m\u001b[1;36m1\u001b[0m\u001b[1;33m\u001b[0m\u001b[1;33m\u001b[0m\u001b[0m\n",
      "\u001b[1;31mIndexError\u001b[0m: string index out of range"
     ]
    }
   ],
   "source": [
    "\n",
    "            \n",
    "        \n",
    "        \n",
    "        \n",
    "    \n",
    "        \n",
    "        \n",
    "    \n",
    "\n",
    "\n",
    "\n",
    "# 1 - 1 - \n",
    "#   - 11 - 0 \n",
    "#         -06\n",
    "  \n",
    "# 11 - 1\n",
    "#    - 10\n",
    "\n",
    "# def helper(index,myStr:str,mydict:dict):\n",
    "\n",
    "\n",
    "# def find_combinations(myStr:str,mydict:dict, counter,temp_str:str ,kb:dict):\n",
    "    \n",
    "#     #base condition\n",
    "#     if index >n-1:\n",
    "#         kb[temp_str] = 1\n",
    "#         counter +=1\n",
    "#         return counter\n",
    "    \n",
    "    \n",
    "#     #recursive\n",
    "#     index = 0\n",
    "#     one_String = myStr[index]\n",
    "#     temp_str = temp_str+one_String\n",
    "#     return find_combinations(myStr,mydict, counter,temp_str ,kb)\n",
    "    \n",
    "#     two_string = myStr[index:index+2]\n",
    "#     temp_str = temp_str+two_string\n",
    "#     find_combinations(myStr,mydict, counter,temp_str ,kb)\n",
    "    \n",
    "\n",
    "\n",
    "    \n",
    "\n",
    "\n",
    "    \n",
    "    \n",
    "    \n",
    "    \n",
    "    \n",
    "    \n",
    "    "
   ]
  },
  {
   "cell_type": "code",
   "execution_count": 18,
   "metadata": {},
   "outputs": [
    {
     "name": "stdout",
     "output_type": "stream",
     "text": [
      "5\n"
     ]
    }
   ],
   "source": [
    "myStr = \"11106\"\n",
    "\n",
    "# myStr = myStr[::-1]\n",
    "dict_keys = mydict.keys()\n",
    "ans = 0\n",
    "\n",
    "counter = 0\n",
    "for _ in range(len(myStr)-1,0,-1):\n",
    "    if myStr[_] ==\"0\":\n",
    "        if myStr[_-1] + myStr[_] in dict_keys:\n",
    "            counter +=1\n",
    "        else:\n",
    "            counter -=1\n",
    "    else:\n",
    "        if myStr[_] in dict_keys:\n",
    "            counter +=1\n",
    "        else:\n",
    "            counter -=1\n",
    "        if myStr[_] + myStr[_-1] in dict_keys:\n",
    "            counter +=1\n",
    "        else:\n",
    "            counter -=1\n",
    "print(counter)"
   ]
  },
  {
   "cell_type": "code",
   "execution_count": null,
   "metadata": {},
   "outputs": [],
   "source": []
  }
 ],
 "metadata": {
  "kernelspec": {
   "display_name": "base",
   "language": "python",
   "name": "python3"
  },
  "language_info": {
   "codemirror_mode": {
    "name": "ipython",
    "version": 3
   },
   "file_extension": ".py",
   "mimetype": "text/x-python",
   "name": "python",
   "nbconvert_exporter": "python",
   "pygments_lexer": "ipython3",
   "version": "3.7.6"
  },
  "orig_nbformat": 4
 },
 "nbformat": 4,
 "nbformat_minor": 2
}
