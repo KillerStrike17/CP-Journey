{
 "cells": [
  {
   "cell_type": "code",
   "execution_count": 5,
   "metadata": {},
   "outputs": [
    {
     "name": "stdout",
     "output_type": "stream",
     "text": [
      "1 0\n",
      "[(0, 3)]\n",
      "[(1, 1)]\n",
      "[(2, 2)]\n",
      "[(3, 2)]\n"
     ]
    }
   ],
   "source": [
    "arr = [1,3,2,2]\n",
    "\n",
    "max_elem_A = -100000\n",
    "max_elem_B = -100000\n",
    "max_index_A = -1\n",
    "max_index_B = -1 \n",
    "\n",
    "def returnAllIndex(arr,target,current_index):\n",
    "    temp = []\n",
    "    for i,val in enumerate(arr):\n",
    "        if target == i:\n",
    "            temp.append((current_index,i))\n",
    "    return temp\n",
    "        \n",
    "\n",
    "for i,val in enumerate(arr):\n",
    "    if val>max_elem_A:\n",
    "        max_elem_B = max_elem_A\n",
    "        max_index_B = max_index_A\n",
    "        max_elem_A = val\n",
    "        max_index_A = i\n",
    "\n",
    "print(max_index_A,max_index_B)\n",
    "max_sum = max_elem_B + max_elem_A\n",
    "\n",
    "\n",
    "for i,val in enumerate(arr):\n",
    "    # if (max_sum-val) in arr:\n",
    "    mymatching_list = returnAllIndex(arr,max_sum-val,i)\n",
    "    # if mymatching_list: \n",
    "    print(mymatching_list)  \n",
    "    # else:\n",
    "        \n",
    "    "
   ]
  },
  {
   "cell_type": "code",
   "execution_count": null,
   "metadata": {},
   "outputs": [],
   "source": []
  }
 ],
 "metadata": {
  "kernelspec": {
   "display_name": "base",
   "language": "python",
   "name": "python3"
  },
  "language_info": {
   "codemirror_mode": {
    "name": "ipython",
    "version": 3
   },
   "file_extension": ".py",
   "mimetype": "text/x-python",
   "name": "python",
   "nbconvert_exporter": "python",
   "pygments_lexer": "ipython3",
   "version": "3.7.6"
  },
  "orig_nbformat": 4
 },
 "nbformat": 4,
 "nbformat_minor": 2
}
